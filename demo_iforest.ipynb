{
  "cells": [
    {
      "cell_type": "markdown",
      "source": [
        "[![Open In Colab](https://colab.research.google.com/assets/colab-badge.svg)](https://colab.research.google.com/github/googlecolab/colabtools/blob/master/notebooks/colab-github-demo.ipynb)\n"
      ],
      "metadata": {
        "id": "10WT1K844mCh"
      }
    },
    {
      "cell_type": "code",
      "source": [
        "! pip install iso_forest igraph seaborn"
      ],
      "metadata": {
        "id": "oXDN6nMt492E"
      },
      "execution_count": null,
      "outputs": []
    },
    {
      "cell_type": "code",
      "execution_count": null,
      "metadata": {
        "id": "747_rKuF4krU"
      },
      "outputs": [],
      "source": [
        "%matplotlib inline\n",
        "import matplotlib.pyplot as plt\n",
        "import numpy as np\n",
        "from scipy.stats import multivariate_normal\n",
        "import random as rn\n",
        "import iso_forest as iso\n",
        "import seaborn as sb\n",
        "sb.set_style(style=\"whitegrid\")\n",
        "sb.set_color_codes()"
      ]
    },
    {
      "cell_type": "markdown",
      "metadata": {
        "id": "G0HTtUOo4krX"
      },
      "source": [
        "## Create fake data"
      ]
    },
    {
      "cell_type": "code",
      "execution_count": null,
      "metadata": {
        "id": "iYJO7OGx4krd"
      },
      "outputs": [],
      "source": [
        "mean = [0, 0]\n",
        "cov = [[1, 0], [0, 1]]  # diagonal covariance\n",
        "Nobjs = 3000\n",
        "x, y = np.random.multivariate_normal(mean, cov, Nobjs).T\n",
        "#Add manual outlier\n",
        "x[0]=3.3\n",
        "y[0]=3.3\n",
        "X=np.array([x,y]).T\n",
        "plt.figure(figsize=(7,7))\n",
        "plt.scatter(x,y,s=15,facecolor='k',edgecolor='k')"
      ]
    },
    {
      "cell_type": "markdown",
      "metadata": {
        "id": "AlmVigMx4krh"
      },
      "source": [
        "## Create Forest"
      ]
    },
    {
      "cell_type": "code",
      "execution_count": null,
      "metadata": {
        "id": "QiU4sFkE4krj"
      },
      "outputs": [],
      "source": [
        "F = iso.iForest(X,ntrees=500, sample_size=256)"
      ]
    },
    {
      "cell_type": "markdown",
      "metadata": {
        "id": "d1az0Udg4krk"
      },
      "source": [
        "## Computing path for All objects"
      ]
    },
    {
      "cell_type": "code",
      "execution_count": null,
      "metadata": {
        "id": "kLNEU-f64krk"
      },
      "outputs": [],
      "source": [
        "S=F.compute_paths(X_in=X)"
      ]
    },
    {
      "cell_type": "markdown",
      "metadata": {
        "id": "PcmQ0Xhu4krl"
      },
      "source": [
        "### Plotting anomaly distribution"
      ]
    },
    {
      "cell_type": "code",
      "execution_count": null,
      "metadata": {
        "id": "lIFkFkbS4krm"
      },
      "outputs": [],
      "source": [
        "f, axes = plt.subplots(1, 1, figsize=(7, 7), sharex=True)\n",
        "sb.distplot(S, kde=True, color=\"b\", ax=axes, axlabel='anomaly score')"
      ]
    },
    {
      "cell_type": "markdown",
      "metadata": {
        "id": "yha7Vo2V4krn"
      },
      "source": [
        "## sorting by anomaly, plotting 10 top (non) anomalies in black (red)"
      ]
    },
    {
      "cell_type": "code",
      "execution_count": null,
      "metadata": {
        "id": "8Gsrug8r4krn"
      },
      "outputs": [],
      "source": [
        "ss=np.argsort(S)\n",
        "plt.figure(figsize=(7,7))\n",
        "plt.scatter(x,y,s=15,c='b',edgecolor='b')\n",
        "plt.scatter(x[ss[-10:]],y[ss[-10:]],s=55,c='k')\n",
        "plt.scatter(x[ss[:10]],y[ss[:10]],s=55,c='r')"
      ]
    },
    {
      "cell_type": "markdown",
      "metadata": {
        "collapsed": true,
        "id": "XJa3Jki94kro"
      },
      "source": [
        "## Another example, sin function with gaussian error"
      ]
    },
    {
      "cell_type": "code",
      "execution_count": null,
      "metadata": {
        "id": "bqYJynTD4kro"
      },
      "outputs": [],
      "source": [
        "N = 4000\n",
        "x2 = np.random.rand(N)\n",
        "y2 = np.sin(x2*10.) + np.random.randn(N)/2."
      ]
    },
    {
      "cell_type": "markdown",
      "metadata": {
        "id": "J2djiJ4a4kro"
      },
      "source": [
        "## Add outliers by hand"
      ]
    },
    {
      "cell_type": "code",
      "execution_count": null,
      "metadata": {
        "id": "E6v3LBEo4krp"
      },
      "outputs": [],
      "source": [
        "x2[0]=0.4; y2[0]=0.9\n",
        "x2[1]=0.6; y2[1]=1.5\n",
        "x2[2]=0.5; y2[2]=-3.\n",
        "X2=np.array([x2,y2]).T\n",
        "plt.figure(figsize=(9,6))\n",
        "plt.scatter(x2,y2,c='b',edgecolor='b')\n",
        "plt.scatter(x2[:3],y2[:3],c='k')\n",
        "plt.ylim(-3.2,3.2)\n",
        "plt.xlim(0,1)"
      ]
    },
    {
      "cell_type": "code",
      "execution_count": null,
      "metadata": {
        "id": "O_kKQovA4krp"
      },
      "outputs": [],
      "source": [
        "F2 = iso.iForest(X2,ntrees=500, sample_size=512)"
      ]
    },
    {
      "cell_type": "code",
      "execution_count": null,
      "metadata": {
        "id": "2lQM4kml4krp"
      },
      "outputs": [],
      "source": [
        "S2=F2.compute_paths(X_in=X2)"
      ]
    },
    {
      "cell_type": "code",
      "execution_count": null,
      "metadata": {
        "id": "OG7wG6Uk4krq"
      },
      "outputs": [],
      "source": [
        "f, axes = plt.subplots(1, 1, figsize=(7, 7), sharex=True)\n",
        "sb.distplot(S2, kde=True, color=\"b\", ax=axes, axlabel='anomaly score')"
      ]
    },
    {
      "cell_type": "code",
      "execution_count": null,
      "metadata": {
        "id": "hv1gwEX-4krq"
      },
      "outputs": [],
      "source": [
        "ss=np.argsort(S2)\n",
        "plt.figure(figsize=(9,6))\n",
        "plt.scatter(x2,y2,c='b',edgecolors='b')\n",
        "plt.scatter(x2[ss[-10:]],y2[ss[-10:]],s=55,c='k')\n",
        "plt.scatter(x2[ss[:100]],y2[ss[:100]],s=55,c='r')"
      ]
    }
  ],
  "metadata": {
    "kernelspec": {
      "display_name": "Python 3",
      "language": "python",
      "name": "python3"
    },
    "language_info": {
      "codemirror_mode": {
        "name": "ipython",
        "version": 3
      },
      "file_extension": ".py",
      "mimetype": "text/x-python",
      "name": "python",
      "nbconvert_exporter": "python",
      "pygments_lexer": "ipython3",
      "version": "3.4.2"
    },
    "colab": {
      "name": "demo_iforest.ipynb",
      "provenance": []
    }
  },
  "nbformat": 4,
  "nbformat_minor": 0
}